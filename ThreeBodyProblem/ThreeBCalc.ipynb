{
 "cells": [
  {
   "cell_type": "code",
   "execution_count": 3,
   "metadata": {},
   "outputs": [],
   "source": [
    "import numpy as np\n",
    "import matplotlib.pyplot as plt"
   ]
  },
  {
   "cell_type": "code",
   "execution_count": 4,
   "metadata": {},
   "outputs": [
    {
     "data": {
      "text/plain": [
       "1500000000.0"
      ]
     },
     "execution_count": 4,
     "metadata": {},
     "output_type": "execute_result"
    }
   ],
   "source": [
    "150e7\n"
   ]
  },
  {
   "cell_type": "code",
   "execution_count": 5,
   "metadata": {},
   "outputs": [
    {
     "data": {
      "text/plain": [
       "1.0521885521885524e-05"
      ]
     },
     "execution_count": 5,
     "metadata": {},
     "output_type": "execute_result"
    }
   ],
   "source": [
    "(1/12)*(1/11)*(1/10)*(1/9)*(7/8)*(6/7)*(5/6)*(4/5)*(3/4)*(2/3)*(1/2)"
   ]
  },
  {
   "cell_type": "code",
   "execution_count": 6,
   "metadata": {},
   "outputs": [],
   "source": [
    "def distEq(coord0, coord1):\n",
    "    return np.sqrt((coord0[0] - coord1[0])**2 + ((coord0[1] - coord1[1])**2))"
   ]
  },
  {
   "cell_type": "code",
   "execution_count": null,
   "metadata": {},
   "outputs": [],
   "source": [
    "d01 = distEq(loc0, loc1)\n",
    "d02 = distEq(loc0, loc2)\n",
    "\n",
    "d12 = distEq(loc1, loc2)\n",
    "d10 = d01\n",
    "\n",
    "d20 = d02\n",
    "d21 = d12\n",
    "\n",
    "a0x = ((m1/(d01**3))*(loc1[0] - loc0[0]) + (m2/(d02**3))*(loc2[0] - loc0[0]))\n",
    "a0y = ((m1/(d01**3))*(loc1[1] - loc0[1]) + (m2/(d02**3))*(loc2[1] - loc0[1]))\n",
    "\n",
    "\n",
    "a1x = ((m2/(d12**3))*(loc2[0] - loc1[0]) + (m0/(d10**3))*(loc0[0] - loc1[0]))\n",
    "a1y = ((m2/(d12**3))*(loc2[1] - loc1[1]) + (m0/(d10**3))*(loc0[1] - loc1[1]))\n",
    "\n",
    "\n",
    "a2x = ((m0/(d20**3))*(loc0[0] - loc2[0]) + (m1/(d21**3))*(loc1[0] - loc2[0]))\n",
    "a2y = ((m0/(d20**3))*(loc0[1] - loc2[1]) + (m1/(d21**3))*(loc1[1] - loc2[1]))"
   ]
  },
  {
   "cell_type": "code",
   "execution_count": null,
   "metadata": {},
   "outputs": [],
   "source": []
  },
  {
   "cell_type": "code",
   "execution_count": 20,
   "metadata": {},
   "outputs": [
    {
     "data": {
      "text/plain": [
       "array([ 50.50505051,  51.51515152,  52.52525253,  53.53535354,\n",
       "        54.54545455,  55.55555556,  56.56565657,  57.57575758,\n",
       "        58.58585859,  59.5959596 ,  60.60606061,  61.61616162,\n",
       "        62.62626263,  63.63636364,  64.64646465,  65.65656566,\n",
       "        66.66666667,  67.67676768,  68.68686869,  69.6969697 ,\n",
       "        70.70707071,  71.71717172,  72.72727273,  73.73737374,\n",
       "        74.74747475,  75.75757576,  76.76767677,  77.77777778,\n",
       "        78.78787879,  79.7979798 ,  80.80808081,  81.81818182,\n",
       "        82.82828283,  83.83838384,  84.84848485,  85.85858586,\n",
       "        86.86868687,  87.87878788,  88.88888889,  89.8989899 ,\n",
       "        90.90909091,  91.91919192,  92.92929293,  93.93939394,\n",
       "        94.94949495,  95.95959596,  96.96969697,  97.97979798,\n",
       "        98.98989899, 100.        ])"
      ]
     },
     "execution_count": 20,
     "metadata": {},
     "output_type": "execute_result"
    }
   ],
   "source": [
    "np.linspace(0, 100, 100)[-50:]"
   ]
  },
  {
   "cell_type": "code",
   "execution_count": null,
   "metadata": {},
   "outputs": [],
   "source": []
  }
 ],
 "metadata": {
  "kernelspec": {
   "display_name": "Python 3",
   "language": "python",
   "name": "python3"
  },
  "language_info": {
   "codemirror_mode": {
    "name": "ipython",
    "version": 3
   },
   "file_extension": ".py",
   "mimetype": "text/x-python",
   "name": "python",
   "nbconvert_exporter": "python",
   "pygments_lexer": "ipython3",
   "version": "3.7.4"
  }
 },
 "nbformat": 4,
 "nbformat_minor": 2
}
